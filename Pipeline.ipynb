{
 "cells": [
  {
   "cell_type": "code",
   "execution_count": 1,
   "id": "b6162320",
   "metadata": {},
   "outputs": [],
   "source": [
    "import pandas as pd\n",
    "import requests\n",
    "from sqlalchemy import create_engine, Column, String, Integer, Float\n",
    "from sqlalchemy.orm import declarative_base, sessionmaker\n",
    "import sqlite3\n",
    "import mlflow\n",
    "import schedule\n",
    "import time"
   ]
  },
  {
   "cell_type": "code",
   "execution_count": 2,
   "id": "c22f2b43",
   "metadata": {},
   "outputs": [
    {
     "name": "stdout",
     "output_type": "stream",
     "text": [
      "Warehouse successfully created  🔥\n"
     ]
    }
   ],
   "source": [
    "##Creating the DataBase for the first time\n",
    "\n",
    "engine = create_engine('sqlite:///f1.db')\n",
    "\n",
    "Base = declarative_base()\n",
    "# creating the tables in the database\n",
    "class Circuits(Base):\n",
    "    __tablename__ = 'Circuits'\n",
    "    \n",
    "    CircuitId = Column(String, nullable=False,primary_key=True)\n",
    "    CircuitName= Column(String, nullable=False)\n",
    "    Country = Column(String, nullable=False)\n",
    "    City = Column(String, nullable=False)\n",
    "    Longitude = Column(Float)\n",
    "    Latitude = Column(Float)\n",
    "    Season = Column(Integer)\n",
    "    \n",
    "class Drivers(Base):\n",
    "    __tablename__ = 'Drivers'\n",
    "    \n",
    "    DriverId = Column(String, nullable=False,primary_key=True)\n",
    "    DriverName= Column(String, nullable=False)\n",
    "    DOB = Column(String, nullable=False)\n",
    "    Nationality = Column(String, nullable=False)\n",
    "    Number = Column(Integer)\n",
    "    Season = Column(Integer)\n",
    "    \n",
    "class Results(Base):\n",
    "    __tablename__ = 'Results'\n",
    "    \n",
    "    id = Column(Integer, autoincrement=True, primary_key = True)\n",
    "    RaceName = Column(String, nullable=False)\n",
    "    Round= Column(Integer)\n",
    "    Season = Column(Integer)\n",
    "    CircuitName = Column(String, nullable=False)\n",
    "    DriverName = Column(String, nullable=False)\n",
    "    grid = Column(Integer)\n",
    "    laps = Column(Integer)\n",
    "    status = Column(String, nullable=False)\n",
    "    position = Column(Integer)\n",
    "    Time = Column(String, nullable=True)\n",
    "    Constructor = Column(String, nullable=False)\n",
    "\n",
    "    \n",
    "Base.metadata.create_all(engine)\n",
    "\n",
    "print('Warehouse successfully created  🔥')"
   ]
  },
  {
   "cell_type": "code",
   "execution_count": 3,
   "id": "ffa56bf7",
   "metadata": {},
   "outputs": [],
   "source": [
    "%run components.py"
   ]
  },
  {
   "cell_type": "code",
   "execution_count": 4,
   "id": "24649b54",
   "metadata": {},
   "outputs": [
    {
     "name": "stdout",
     "output_type": "stream",
     "text": [
      "Extracting the data...🚀\n",
      "Transforming the data...🚀\n",
      "Loading data into warehouse...🚀\n",
      "Pipeline successfully created 🔥\n"
     ]
    }
   ],
   "source": [
    "#Creating the ETL Pipeline\n",
    "\n",
    "def warehouse_pipeline():\n",
    "    Session = sessionmaker(bind=engine)  # establisha connection to the database\n",
    "    session = Session()\n",
    "    #mlflow.set_tracking_uri(\"http://127.0.0.1:5000/\")\n",
    "    #mlflow.set_experiment(\"ETL\")\n",
    "    with mlflow.start_run(run_name = 'Warehouse_Pipeline') as run:  #using mlflow to log 5\n",
    "        mlflow.set_tag('pipeline run', 'full run')\n",
    "        \n",
    "        print('Extracting the data...🚀')\n",
    "        raw_data = extract()\n",
    "        mlflow.log_metric('rows extracted', len(raw_data))\n",
    "    \n",
    "        print('Transforming the data...🚀')\n",
    "        results = transform_results(raw_data)\n",
    "        mlflow.log_dict({'columns extracted' :list(results.columns)}, \"results.json\")\n",
    "    \n",
    "        drivers = transform_drivers(raw_data)\n",
    "        mlflow.log_dict({'columns extracted' :list(drivers.columns)}, \"drivers.json\")\n",
    "    \n",
    "        circuits = transform_circuits(raw_data)\n",
    "        mlflow.log_dict({'columns extracted' :list(circuits.columns)}, \"circuits.json\")\n",
    "    \n",
    "        print('Loading data into warehouse...🚀')\n",
    "        load_data([\n",
    "            (results,Results),\n",
    "            (drivers, Drivers),\n",
    "            (circuits, Circuits)\n",
    "        ], session)\n",
    "    \n",
    "        print('Pipeline successfully created 🔥')\n",
    "        mlflow.set_tag('status', 'completed')\n",
    "    session.close() # close the connection\n",
    "    \n",
    "if __name__ == \"__main__\":\n",
    "    warehouse_pipeline()\n",
    "    "
   ]
  },
  {
   "cell_type": "code",
   "execution_count": null,
   "id": "a7410945",
   "metadata": {},
   "outputs": [],
   "source": [
    "# run the ETL Pipeline evey tuesday at 1:15pm\n",
    "\"\"\"\n",
    "schedule.every().tuesday.at(\"13:15\").do(warehouse_pipeline)\n",
    "\n",
    "\n",
    "while True:\n",
    "    schedule.run_pending()\n",
    "    time.sleep(30)\n",
    "\"\"\""
   ]
  },
  {
   "cell_type": "code",
   "execution_count": null,
   "id": "46252daf",
   "metadata": {},
   "outputs": [],
   "source": [
    "# engine.dispose()    #useful as a last resort before deleting the database"
   ]
  },
  {
   "cell_type": "code",
   "execution_count": null,
   "id": "5338d6bc",
   "metadata": {},
   "outputs": [],
   "source": [
    "#deleting the databse\n",
    "\"\"\"\n",
    "import os\n",
    "\n",
    "db_file = \"f1.db\"\n",
    "\n",
    "if os.path.exists(db_file):\n",
    "    os.remove(db_file)\n",
    "    print(\"Database deleted.\")\n",
    "else:\n",
    "    print(\"Database does not exist.\")\n",
    "\"\"\""
   ]
  }
 ],
 "metadata": {
  "kernelspec": {
   "display_name": "Python 3 (ipykernel)",
   "language": "python",
   "name": "python3"
  },
  "language_info": {
   "codemirror_mode": {
    "name": "ipython",
    "version": 3
   },
   "file_extension": ".py",
   "mimetype": "text/x-python",
   "name": "python",
   "nbconvert_exporter": "python",
   "pygments_lexer": "ipython3",
   "version": "3.9.12"
  }
 },
 "nbformat": 4,
 "nbformat_minor": 5
}
