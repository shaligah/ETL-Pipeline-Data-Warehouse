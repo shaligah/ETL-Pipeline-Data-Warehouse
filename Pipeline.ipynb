{
  "cells": [
    {
      "cell_type": "markdown",
      "metadata": {
        "id": "view-in-github",
        "colab_type": "text"
      },
      "source": [
        "<a href=\"https://colab.research.google.com/github/shaligah/ETL-Pipeline-Data-Warehouse/blob/main/Pipeline.ipynb\" target=\"_parent\"><img src=\"https://colab.research.google.com/assets/colab-badge.svg\" alt=\"Open In Colab\"/></a>"
      ]
    },
    {
      "cell_type": "code",
      "source": [
        "!git clone https://github.com/shaligah/ETL-Pipeline-Data-Warehouse.git\n",
        "%cd ETL-Pipeline-Data-Warehouse"
      ],
      "metadata": {
        "colab": {
          "base_uri": "https://localhost:8080/"
        },
        "id": "RRcv8gLeoMiU",
        "outputId": "c7a53674-0d1c-4d7a-e629-3b687b0b929d"
      },
      "id": "RRcv8gLeoMiU",
      "execution_count": 1,
      "outputs": [
        {
          "output_type": "stream",
          "name": "stdout",
          "text": [
            "Cloning into 'ETL-Pipeline-Data-Warehouse'...\n",
            "remote: Enumerating objects: 50, done.\u001b[K\n",
            "remote: Counting objects: 100% (50/50), done.\u001b[K\n",
            "remote: Compressing objects: 100% (40/40), done.\u001b[K\n",
            "remote: Total 50 (delta 13), reused 0 (delta 0), pack-reused 0 (from 0)\u001b[K\n",
            "Receiving objects: 100% (50/50), 38.83 KiB | 883.00 KiB/s, done.\n",
            "Resolving deltas: 100% (13/13), done.\n",
            "/content/ETL-Pipeline-Data-Warehouse\n"
          ]
        }
      ]
    },
    {
      "cell_type": "code",
      "source": [
        "!pip install sqlalchemy mlflow schedule --quiet"
      ],
      "metadata": {
        "colab": {
          "base_uri": "https://localhost:8080/"
        },
        "id": "V_yV8ckCprnd",
        "outputId": "88efbf6b-15e0-4798-fbb1-d121201c4af8"
      },
      "id": "V_yV8ckCprnd",
      "execution_count": 2,
      "outputs": [
        {
          "output_type": "stream",
          "name": "stdout",
          "text": [
            "\u001b[2K   \u001b[90m━━━━━━━━━━━━━━━━━━━━━━━━━━━━━━━━━━━━━━━━\u001b[0m \u001b[32m24.7/24.7 MB\u001b[0m \u001b[31m16.3 MB/s\u001b[0m eta \u001b[36m0:00:00\u001b[0m\n",
            "\u001b[2K   \u001b[90m━━━━━━━━━━━━━━━━━━━━━━━━━━━━━━━━━━━━━━━━\u001b[0m \u001b[32m1.9/1.9 MB\u001b[0m \u001b[31m13.3 MB/s\u001b[0m eta \u001b[36m0:00:00\u001b[0m\n",
            "\u001b[2K   \u001b[90m━━━━━━━━━━━━━━━━━━━━━━━━━━━━━━━━━━━━━━━━\u001b[0m \u001b[32m242.7/242.7 kB\u001b[0m \u001b[31m12.3 MB/s\u001b[0m eta \u001b[36m0:00:00\u001b[0m\n",
            "\u001b[2K   \u001b[90m━━━━━━━━━━━━━━━━━━━━━━━━━━━━━━━━━━━━━━━━\u001b[0m \u001b[32m147.8/147.8 kB\u001b[0m \u001b[31m11.0 MB/s\u001b[0m eta \u001b[36m0:00:00\u001b[0m\n",
            "\u001b[2K   \u001b[90m━━━━━━━━━━━━━━━━━━━━━━━━━━━━━━━━━━━━━━━━\u001b[0m \u001b[32m114.9/114.9 kB\u001b[0m \u001b[31m6.4 MB/s\u001b[0m eta \u001b[36m0:00:00\u001b[0m\n",
            "\u001b[2K   \u001b[90m━━━━━━━━━━━━━━━━━━━━━━━━━━━━━━━━━━━━━━━━\u001b[0m \u001b[32m85.0/85.0 kB\u001b[0m \u001b[31m2.5 MB/s\u001b[0m eta \u001b[36m0:00:00\u001b[0m\n",
            "\u001b[2K   \u001b[90m━━━━━━━━━━━━━━━━━━━━━━━━━━━━━━━━━━━━━━━━\u001b[0m \u001b[32m733.8/733.8 kB\u001b[0m \u001b[31m11.6 MB/s\u001b[0m eta \u001b[36m0:00:00\u001b[0m\n",
            "\u001b[2K   \u001b[90m━━━━━━━━━━━━━━━━━━━━━━━━━━━━━━━━━━━━━━━━\u001b[0m \u001b[32m203.4/203.4 kB\u001b[0m \u001b[31m18.5 MB/s\u001b[0m eta \u001b[36m0:00:00\u001b[0m\n",
            "\u001b[2K   \u001b[90m━━━━━━━━━━━━━━━━━━━━━━━━━━━━━━━━━━━━━━━━\u001b[0m \u001b[32m65.8/65.8 kB\u001b[0m \u001b[31m2.1 MB/s\u001b[0m eta \u001b[36m0:00:00\u001b[0m\n",
            "\u001b[2K   \u001b[90m━━━━━━━━━━━━━━━━━━━━━━━━━━━━━━━━━━━━━━━━\u001b[0m \u001b[32m118.5/118.5 kB\u001b[0m \u001b[31m5.5 MB/s\u001b[0m eta \u001b[36m0:00:00\u001b[0m\n",
            "\u001b[2K   \u001b[90m━━━━━━━━━━━━━━━━━━━━━━━━━━━━━━━━━━━━━━━━\u001b[0m \u001b[32m196.2/196.2 kB\u001b[0m \u001b[31m14.9 MB/s\u001b[0m eta \u001b[36m0:00:00\u001b[0m\n",
            "\u001b[?25h"
          ]
        }
      ]
    },
    {
      "cell_type": "code",
      "execution_count": 3,
      "id": "b6162320",
      "metadata": {
        "id": "b6162320"
      },
      "outputs": [],
      "source": [
        "import pandas as pd\n",
        "import requests\n",
        "from sqlalchemy import create_engine, Column, String, Integer, Float\n",
        "from sqlalchemy.orm import declarative_base, sessionmaker\n",
        "import sqlite3\n",
        "import mlflow\n",
        "import schedule\n",
        "import time\n",
        "from components import extract,transform_results,transform_drivers,transform_circuits,load_data"
      ]
    },
    {
      "cell_type": "code",
      "execution_count": 4,
      "id": "c22f2b43",
      "metadata": {
        "colab": {
          "base_uri": "https://localhost:8080/"
        },
        "id": "c22f2b43",
        "outputId": "98db3f49-0597-4eb3-93e3-08e371279afb"
      },
      "outputs": [
        {
          "output_type": "stream",
          "name": "stdout",
          "text": [
            "Warehouse successfully created  🔥\n"
          ]
        }
      ],
      "source": [
        "##Creating the DataBase for the first time\n",
        "\n",
        "engine = create_engine('sqlite:///f1.db')\n",
        "\n",
        "Base = declarative_base()\n",
        "# creating the tables in the database\n",
        "class Circuits(Base):\n",
        "    __tablename__ = 'Circuits'\n",
        "\n",
        "    CircuitId = Column(String, nullable=False,primary_key=True)\n",
        "    CircuitName= Column(String, nullable=False)\n",
        "    Country = Column(String, nullable=False)\n",
        "    City = Column(String, nullable=False)\n",
        "    Longitude = Column(Float)\n",
        "    Latitude = Column(Float)\n",
        "    Season = Column(Integer)\n",
        "\n",
        "class Drivers(Base):\n",
        "    __tablename__ = 'Drivers'\n",
        "\n",
        "    DriverId = Column(String, nullable=False,primary_key=True)\n",
        "    DriverName= Column(String, nullable=False)\n",
        "    DOB = Column(String, nullable=False)\n",
        "    Nationality = Column(String, nullable=False)\n",
        "    Number = Column(Integer)\n",
        "    Season = Column(Integer)\n",
        "\n",
        "class Results(Base):\n",
        "    __tablename__ = 'Results'\n",
        "\n",
        "    id = Column(Integer, autoincrement=True, primary_key = True)\n",
        "    RaceName = Column(String, nullable=False)\n",
        "    Round= Column(Integer)\n",
        "    Season = Column(Integer)\n",
        "    CircuitName = Column(String, nullable=False)\n",
        "    DriverName = Column(String, nullable=False)\n",
        "    grid = Column(Integer)\n",
        "    laps = Column(Integer)\n",
        "    status = Column(String, nullable=False)\n",
        "    position = Column(Integer)\n",
        "    Time = Column(String, nullable=True)\n",
        "    Constructor = Column(String, nullable=False)\n",
        "\n",
        "\n",
        "Base.metadata.create_all(engine)\n",
        "\n",
        "print('Warehouse successfully created  🔥')"
      ]
    },
    {
      "cell_type": "code",
      "execution_count": 5,
      "id": "24649b54",
      "metadata": {
        "colab": {
          "base_uri": "https://localhost:8080/"
        },
        "id": "24649b54",
        "outputId": "58bf93c2-16e1-4771-9491-63216057516d"
      },
      "outputs": [
        {
          "output_type": "stream",
          "name": "stdout",
          "text": [
            "Extracting the data...🚀\n",
            "Transforming the data...🚀\n",
            "Loading data into warehouse...🚀\n",
            "Pipeline successfully created 🔥\n"
          ]
        }
      ],
      "source": [
        "#Creating the ETL Pipeline\n",
        "\n",
        "def warehouse_pipeline():\n",
        "    Session = sessionmaker(bind=engine)  # establisha connection to the database\n",
        "    session = Session()\n",
        "    #mlflow.set_tracking_uri(\"http://127.0.0.1:5000/\")\n",
        "    #mlflow.set_experiment(\"ETL\")\n",
        "    with mlflow.start_run(run_name = 'Warehouse_Pipeline') as run:  #using mlflow to log 5\n",
        "        mlflow.set_tag('pipeline run', 'full run')\n",
        "\n",
        "        print('Extracting the data...🚀')\n",
        "        raw_data = extract\n",
        "        mlflow.log_metric('rows extracted', len(raw_data))\n",
        "\n",
        "        print('Transforming the data...🚀')\n",
        "        results = transform_results(raw_data)\n",
        "        mlflow.log_dict({'columns extracted' :list(results.columns)}, \"results.json\")\n",
        "\n",
        "        drivers = transform_drivers(raw_data)\n",
        "        mlflow.log_dict({'columns extracted' :list(drivers.columns)}, \"drivers.json\")\n",
        "\n",
        "        circuits = transform_circuits(raw_data)\n",
        "        mlflow.log_dict({'columns extracted' :list(circuits.columns)}, \"circuits.json\")\n",
        "\n",
        "        print('Loading data into warehouse...🚀')\n",
        "        load_data([\n",
        "            (results,Results),\n",
        "            (drivers, Drivers),\n",
        "            (circuits, Circuits)\n",
        "        ], session)\n",
        "\n",
        "        print('Pipeline successfully created 🔥')\n",
        "        mlflow.set_tag('status', 'completed')\n",
        "    session.close() # close the connection\n",
        "\n",
        "if __name__ == \"__main__\":\n",
        "    warehouse_pipeline()\n",
        ""
      ]
    },
    {
      "cell_type": "code",
      "execution_count": 6,
      "id": "a7410945",
      "metadata": {
        "colab": {
          "base_uri": "https://localhost:8080/",
          "height": 36
        },
        "id": "a7410945",
        "outputId": "67d276ee-71fb-434c-f724-28ce70494fc7"
      },
      "outputs": [
        {
          "output_type": "execute_result",
          "data": {
            "text/plain": [
              "'\\nschedule.every().tuesday.at(\"13:15\").do(warehouse_pipeline)\\n\\n\\nwhile True:\\n    schedule.run_pending()\\n    time.sleep(30)\\n'"
            ],
            "application/vnd.google.colaboratory.intrinsic+json": {
              "type": "string"
            }
          },
          "metadata": {},
          "execution_count": 6
        }
      ],
      "source": [
        "# run the ETL Pipeline evey tuesday at 1:15pm\n",
        "\"\"\"\n",
        "schedule.every().tuesday.at(\"13:15\").do(warehouse_pipeline)\n",
        "\n",
        "\n",
        "while True:\n",
        "    schedule.run_pending()\n",
        "    time.sleep(30)\n",
        "\"\"\""
      ]
    },
    {
      "cell_type": "code",
      "execution_count": 7,
      "id": "46252daf",
      "metadata": {
        "id": "46252daf"
      },
      "outputs": [],
      "source": [
        "engine.dispose()    #useful as a last resort before deleting the database"
      ]
    },
    {
      "cell_type": "code",
      "execution_count": 10,
      "id": "5338d6bc",
      "metadata": {
        "colab": {
          "base_uri": "https://localhost:8080/"
        },
        "id": "5338d6bc",
        "outputId": "2e13de00-240d-4d37-d91f-c2ef1e7f9e60"
      },
      "outputs": [
        {
          "output_type": "stream",
          "name": "stdout",
          "text": [
            "Database deleted.\n"
          ]
        }
      ],
      "source": [
        "#deleting the databse\n",
        "\"\"\"\n",
        "import os\n",
        "\n",
        "db_file = \"f1.db\"\n",
        "\n",
        "if os.path.exists(db_file):\n",
        "    os.remove(db_file)\n",
        "    print(\"Database deleted.\")\n",
        "else:\n",
        "    print(\"Database does not exist.\")\n",
        "\"\"\""
      ]
    }
  ],
  "metadata": {
    "kernelspec": {
      "display_name": "Python 3 (ipykernel)",
      "language": "python",
      "name": "python3"
    },
    "language_info": {
      "codemirror_mode": {
        "name": "ipython",
        "version": 3
      },
      "file_extension": ".py",
      "mimetype": "text/x-python",
      "name": "python",
      "nbconvert_exporter": "python",
      "pygments_lexer": "ipython3",
      "version": "3.9.12"
    },
    "colab": {
      "provenance": [],
      "toc_visible": true,
      "include_colab_link": true
    }
  },
  "nbformat": 4,
  "nbformat_minor": 5
}